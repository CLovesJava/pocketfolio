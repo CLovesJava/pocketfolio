{
 "cells": [
  {
   "cell_type": "markdown",
   "metadata": {},
   "source": [
    "# 📌 TF-IDF (비슷한 마이룸 추천)\n",
    "\n",
    "## ✏️ DB 연결"
   ]
  },
  {
   "cell_type": "code",
   "execution_count": 119,
   "metadata": {},
   "outputs": [],
   "source": [
    "import os\n",
    "import pymysql\n",
    "import pandas as pd\n",
    "import re\n",
    "\n",
    "from dotenv import load_dotenv, find_dotenv\n",
    "\n",
    "\n",
    "# 환경변수 불러오기\n",
    "load_dotenv(find_dotenv())\n",
    "HOST = os.environ[\"MYSQL_HOST\"] # MySQL host\n",
    "DB = os.environ[\"MYSQL_NAME\"]   # MySQL name\n",
    "USER = os.environ[\"MYSQL_USER\"] # MySQL user\n",
    "PASSWORD = os.environ[\"MYSQL_PASS\"] # MySQL password\n",
    "PORT = int(os.environ[\"MYSQL_PORT\"]) # MySQL port\n",
    "\n",
    "\n",
    "# DB 연결\n",
    "db = pymysql.connect(host=HOST, port=PORT, user=USER, passwd=PASSWORD, db=DB, charset='utf8', autocommit=True, cursorclass=pymysql.cursors.DictCursor)\n",
    "#  cursor생성\n",
    "cursor = db.cursor()"
   ]
  },
  {
   "cell_type": "code",
   "execution_count": 120,
   "metadata": {},
   "outputs": [],
   "source": [
    "# 한글, 숫자, 영문만 가져옴\n",
    "def sub_special(s):\n",
    "    # html 태그 제거\n",
    "    tag_remover = re.compile('<.*?>')\n",
    "    s = re.sub(tag_remover, '', s)\n",
    "    return re.sub(r'[^ㄱ-ㅎㅏ-ㅣ가-힣0-9a-zA-Z ]','',s)\n",
    "\n",
    "# 리스트를 문자열로\n",
    "def list_2_str(list):\n",
    "    return \"\".join(list)"
   ]
  },
  {
   "cell_type": "markdown",
   "metadata": {},
   "source": [
    "### ✏️ 로그인 한 유저의 포트폴리오 Summary 및 Tag 조회"
   ]
  },
  {
   "cell_type": "code",
   "execution_count": 121,
   "metadata": {},
   "outputs": [
    {
     "data": {
      "text/html": [
       "<div>\n",
       "<style scoped>\n",
       "    .dataframe tbody tr th:only-of-type {\n",
       "        vertical-align: middle;\n",
       "    }\n",
       "\n",
       "    .dataframe tbody tr th {\n",
       "        vertical-align: top;\n",
       "    }\n",
       "\n",
       "    .dataframe thead th {\n",
       "        text-align: right;\n",
       "    }\n",
       "</style>\n",
       "<table border=\"1\" class=\"dataframe\">\n",
       "  <thead>\n",
       "    <tr style=\"text-align: right;\">\n",
       "      <th></th>\n",
       "      <th>room_seq</th>\n",
       "      <th>feat</th>\n",
       "    </tr>\n",
       "  </thead>\n",
       "  <tbody>\n",
       "    <tr>\n",
       "      <th>0</th>\n",
       "      <td>0</td>\n",
       "      <td>&lt;h1&gt;아이링크&lt;/h1&gt;&lt;p&gt;스스로 모든 것을 하고 싶어하는 모든 아이를 위해 우리...</td>\n",
       "    </tr>\n",
       "  </tbody>\n",
       "</table>\n",
       "</div>"
      ],
      "text/plain": [
       "   room_seq                                               feat\n",
       "0         0  <h1>아이링크</h1><p>스스로 모든 것을 하고 싶어하는 모든 아이를 위해 우리..."
      ]
     },
     "execution_count": 121,
     "metadata": {},
     "output_type": "execute_result"
    }
   ],
   "source": [
    "# 로그인 한 유저의 번호\n",
    "user_seq = 40\n",
    "\n",
    "# 포트폴리오 summary 조회\n",
    "port_sql = \"SELECT GROUP_CONCAT(DISTINCT(`p`.`summary`) SEPARATOR '') AS `portfolios` \\\n",
    "    FROM `portfolio` AS `p` \\\n",
    "    INNER JOIN `arrange` AS `a` ON `p`.`port_seq` = `a`.`port_seq` \\\n",
    "    INNER JOIN `room` AS `r` ON `a`.`room_seq` = `r`.`room_seq` \\\n",
    "    INNER JOIN `user` AS `u` ON `r`.`user_seq` = `u`.`user_seq` \\\n",
    "    WHERE `u`.`user_seq` = \" + str(user_seq) + \" GROUP BY `u`.`user_seq`; \"\n",
    "\n",
    "cursor.execute(port_sql)\n",
    "result = cursor.fetchall()\n",
    "\n",
    "ports = result[0].get(\"portfolios\")\n",
    "\n",
    "# Tag 조회\n",
    "tag_sql = \"SELECT GROUP_CONCAT(DISTINCT(`t`.`name`) SEPARATOR '') AS `tags` \\\n",
    "    FROM `tag` AS `t` \\\n",
    "    INNER JOIN `arrange` AS `a` ON `t`.`port_seq` = `a`.`port_seq` \\\n",
    "    INNER JOIN `room` AS `r` ON `a`.`room_seq` = `r`.`room_seq` \\\n",
    "    INNER JOIN `user` AS `u` ON `r`.`user_seq` = `u`.`user_seq` \\\n",
    "    WHERE `u`.`user_seq` = \" + str(user_seq) + \" GROUP BY `u`.`user_seq`; \"\n",
    "\n",
    "cursor.execute(tag_sql)\n",
    "result = cursor.fetchall()\n",
    "tags = result[0].get(\"tags\")\n",
    "\n",
    "user_feat = ports + tags\n",
    "df = pd.DataFrame({\"room_seq\": [0], \"feat\": [user_feat]})\n",
    "df"
   ]
  },
  {
   "cell_type": "markdown",
   "metadata": {},
   "source": [
    "### 형태소 분석"
   ]
  },
  {
   "cell_type": "code",
   "execution_count": 122,
   "metadata": {},
   "outputs": [],
   "source": [
    "from konlpy.tag import Okt\n",
    "import pickle\n",
    "\n",
    "okt = Okt()\n",
    "\n",
    "file_path = \"./stop_words.txt\"\n",
    "with open(file_path, encoding=\"utf8\") as f:\n",
    "    lines = f.readlines()\n",
    "stop_words = [line.rstrip(\"\\n\") for line in lines]\n",
    "\n",
    "path = os.path.abspath(os.path.join(os.getcwd(), \"..\", \"data\"))\n",
    "with open(path + \"\\\\stop_words.pkl\", \"wb\") as f:\n",
    "    pickle.dump(stop_words, f, protocol=pickle.HIGHEST_PROTOCOL)\n"
   ]
  },
  {
   "cell_type": "code",
   "execution_count": 123,
   "metadata": {},
   "outputs": [],
   "source": [
    "# 형태소 분석\n",
    "def morph_and_stopword(text):\n",
    "    text = sub_special(text)\n",
    "    \n",
    "    #형태소 분석\n",
    "    words = okt.morphs(text, stem=True)\n",
    "    \n",
    "    # 형태소 분석 결과 담을 텍스트\n",
    "    feat_list = []\n",
    "    \n",
    "    #불용어 처리\n",
    "    for word in words:\n",
    "        if word not in stop_words and len(word) > 1:\n",
    "            feat_list.append(word)\n",
    "            \n",
    "    return list_2_str(set(feat_list))"
   ]
  },
  {
   "cell_type": "markdown",
   "metadata": {},
   "source": [
    "---"
   ]
  },
  {
   "cell_type": "markdown",
   "metadata": {},
   "source": [
    "### 📌 모든 방의 포트폴리오 Summary, Tag"
   ]
  },
  {
   "cell_type": "code",
   "execution_count": 124,
   "metadata": {
    "scrolled": true
   },
   "outputs": [
    {
     "data": {
      "text/html": [
       "<div>\n",
       "<style scoped>\n",
       "    .dataframe tbody tr th:only-of-type {\n",
       "        vertical-align: middle;\n",
       "    }\n",
       "\n",
       "    .dataframe tbody tr th {\n",
       "        vertical-align: top;\n",
       "    }\n",
       "\n",
       "    .dataframe thead th {\n",
       "        text-align: right;\n",
       "    }\n",
       "</style>\n",
       "<table border=\"1\" class=\"dataframe\">\n",
       "  <thead>\n",
       "    <tr style=\"text-align: right;\">\n",
       "      <th></th>\n",
       "      <th>room_seq</th>\n",
       "      <th>feat</th>\n",
       "    </tr>\n",
       "  </thead>\n",
       "  <tbody>\n",
       "    <tr>\n",
       "      <th>0</th>\n",
       "      <td>0</td>\n",
       "      <td>dockerexpressnodejs전달만들어지다백엔드해보다기분부모님스스로태그일상링크...</td>\n",
       "    </tr>\n",
       "    <tr>\n",
       "      <th>1</th>\n",
       "      <td>82</td>\n",
       "      <td>fsdfdsfdsfsfSFAFSFSG</td>\n",
       "    </tr>\n",
       "  </tbody>\n",
       "</table>\n",
       "</div>"
      ],
      "text/plain": [
       "   room_seq                                               feat\n",
       "0         0  dockerexpressnodejs전달만들어지다백엔드해보다기분부모님스스로태그일상링크...\n",
       "1        82                               fsdfdsfdsfsfSFAFSFSG"
      ]
     },
     "execution_count": 124,
     "metadata": {},
     "output_type": "execute_result"
    }
   ],
   "source": [
    "# 포트폴리오 summary 조회\n",
    "port_sql = \"SELECT `r`.`room_seq`, GROUP_CONCAT(DISTINCT(`p`.`summary`) SEPARATOR '') AS `portfolios` \\\n",
    "    FROM `portfolio` AS `p` \\\n",
    "    INNER JOIN `arrange` AS `a` ON `p`.`port_seq` = `a`.`port_seq` \\\n",
    "    INNER JOIN `room` AS `r` ON `a`.`room_seq` = `r`.`room_seq` \\\n",
    "    INNER JOIN `user` AS `u` ON `r`.`user_seq` = `u`.`user_seq` \\\n",
    "    WHERE `r`.`user_seq` != \" + str(user_seq) + \" GROUP BY `r`.`room_seq` ;\"\n",
    "\n",
    "cursor.execute(port_sql)\n",
    "result = cursor.fetchall()\n",
    "df_ports = pd.DataFrame(result)\n",
    "\n",
    "# Tag 조회\n",
    "tag_sql = \"SELECT `r`.`room_seq`, GROUP_CONCAT(DISTINCT(`t`.`name`) SEPARATOR '') AS `tags` \\\n",
    "    FROM `tag` AS `t` \\\n",
    "    INNER JOIN `arrange` AS `a` ON `t`.`port_seq` = `a`.`port_seq` \\\n",
    "    INNER JOIN `room` AS `r` ON `a`.`room_seq` = `r`.`room_seq` \\\n",
    "    INNER JOIN `user` AS `u` ON `r`.`user_seq` = `u`.`user_seq` \\\n",
    "    WHERE `r`.`user_seq` != \" + str(user_seq) + \" GROUP BY `r`.`room_seq` ;\"\n",
    "\n",
    "cursor.execute(tag_sql)\n",
    "result = cursor.fetchall()\n",
    "df_tags = pd.DataFrame(result)\n",
    "\n",
    "# 태그 없을 시 빈 데이터 프레임 생성\n",
    "if df_tags.empty:\n",
    "    df_tags = pd.DataFrame({\"room_seq\": [], \"tags\": []})\n",
    "    \n",
    "# portfolio, tag 데이터 프레임 병합\n",
    "df_rooms = pd.merge(df_ports, df_tags, how=\"outer\")\n",
    "\n",
    "# 결측값 제거\n",
    "df_rooms[\"portfolios\"] = df_rooms[\"portfolios\"].fillna(\"\")\n",
    "df_rooms[\"tags\"] = df_rooms[\"tags\"].fillna(\"\")\n",
    "\n",
    "# 열 병합\n",
    "df_rooms[\"feat\"] = df_rooms[\"portfolios\"] + df_rooms[\"tags\"]\n",
    "df_rooms.drop([\"portfolios\", \"tags\"], axis=1, inplace=True)\n",
    "\n",
    "# 로그인 유저 데이터와 각 방의 데이터 프레임 병합\n",
    "df = pd.concat([df, df_rooms], ignore_index=True)\n",
    "df.drop_duplicates(inplace=True, ignore_index=True)\n",
    "\n",
    "df[\"feat\"] = df[\"feat\"].map(lambda x:morph_and_stopword(x))\n",
    "df"
   ]
  },
  {
   "cell_type": "markdown",
   "metadata": {},
   "source": [
    "### ✏️ 방 번호:인덱스"
   ]
  },
  {
   "cell_type": "code",
   "execution_count": 125,
   "metadata": {},
   "outputs": [],
   "source": [
    "seq_2_idx = dict(zip(df[\"room_seq\"], df.index))\n",
    "\n",
    "# dict의 value로 key 찾기\n",
    "def get_key(val, dict):\n",
    "    for key, value in dict.items():\n",
    "        if val == value:\n",
    "                return key"
   ]
  },
  {
   "cell_type": "markdown",
   "metadata": {},
   "source": [
    "### TEST TF-IDF"
   ]
  },
  {
   "cell_type": "code",
   "execution_count": 126,
   "metadata": {},
   "outputs": [],
   "source": [
    "from sklearn.feature_extraction.text import TfidfVectorizer\n",
    "from sklearn.metrics.pairwise import cosine_similarity\n",
    "import pandas as pd"
   ]
  },
  {
   "cell_type": "code",
   "execution_count": 127,
   "metadata": {
    "scrolled": true
   },
   "outputs": [
    {
     "name": "stdout",
     "output_type": "stream",
     "text": [
      "TF-IDF 행렬의 크기(shape):  (2, 2)\n",
      "  (0, 0)\t1.0\n",
      "  (1, 1)\t1.0\n",
      "코사인 유사도 연산 결과:  (2, 2)\n",
      "[[1. 0.]\n",
      " [0. 1.]]\n"
     ]
    }
   ],
   "source": [
    "tf_idf = TfidfVectorizer()\n",
    "feat_list = list(df[\"feat\"])\n",
    "tf_idf_matrix = tf_idf.fit_transform(feat_list)\n",
    "print(\"TF-IDF 행렬의 크기(shape): \", tf_idf_matrix.shape)\n",
    "print(tf_idf_matrix)\n",
    "\n",
    "cosine_sim = cosine_similarity(tf_idf_matrix, tf_idf_matrix)\n",
    "print(\"코사인 유사도 연산 결과: \",cosine_sim.shape)\n",
    "print(cosine_sim)"
   ]
  },
  {
   "cell_type": "code",
   "execution_count": 128,
   "metadata": {},
   "outputs": [],
   "source": [
    "def get_recommendations(user_seq, cosine_sim=cosine_sim):\n",
    "    \n",
    "    idx = seq_2_idx[0]\n",
    "    \n",
    "    # 해당 데이터와의 유사도를 가져온다.\n",
    "    sim_scores = list(enumerate(cosine_sim[idx]))\n",
    "    \n",
    "    # 유사도에 따라 정렬\n",
    "    sim_scores = sorted(sim_scores, key=lambda x: x[1], reverse=True)\n",
    "    sim_scores = sim_scores[1:9]\n",
    "    \n",
    "    # 추천 방 저장 리스트\n",
    "    room_list = [idx[0] for idx in sim_scores]\n",
    "    relation = list(df[\"room_seq\"].iloc[room_list])\n",
    "    print(relation)\n",
    "    relation = \",\".join(map(str, relation))\n",
    "    sql = \"INSERT INTO `relation` (user_seq, room_list) VALUES (\" + str(user_seq) + \", '\" + relation + \"') \\\n",
    "        ON DUPLICATE KEY UPDATE user_seq = \" + str(user_seq) + \";\"\n",
    "    cursor.execute(sql)\n",
    "    db.close()\n",
    "    \n",
    "    return list(df[\"room_seq\"].iloc[room_list])"
   ]
  },
  {
   "cell_type": "code",
   "execution_count": 129,
   "metadata": {},
   "outputs": [
    {
     "name": "stdout",
     "output_type": "stream",
     "text": [
      "[82]\n"
     ]
    },
    {
     "data": {
      "text/plain": [
       "[82]"
      ]
     },
     "execution_count": 129,
     "metadata": {},
     "output_type": "execute_result"
    }
   ],
   "source": [
    "get_recommendations(40)"
   ]
  },
  {
   "cell_type": "markdown",
   "metadata": {},
   "source": [
    "[로그인 한 놈]  \n",
    "- 모든 포트폴리오 목록 summary\n",
    "- 모든 태그\n",
    "\n",
    "[다른 사용자]  \n",
    "- 방에 배치된 포트폴리오의 summary\n",
    "- 해당 포트폴리오들의 태그  \n",
    "\n",
    "유저-유저가 아닌 방-로그인 한 유저  \n",
    "\n",
    "DataFrame  \n",
    "[방 번호][포트폴리오내용][태그목록] 을\n",
    "[방 번호][형태소분석 후의 feat str]로 만들어  \n",
    "pickle로 저장 -> 데이터 로딩 시간 감소  \n",
    "\n",
    "\n",
    "\n",
    "인덱스를 방 번호로 지정하고  \n",
    "로그인한 유저의 텍스트랑  \n",
    "방의 feat str의 유사도 계산  \n",
    "유사도 순 정렬한 뒤 8개?  "
   ]
  }
 ],
 "metadata": {
  "kernelspec": {
   "display_name": "pocketfolio",
   "language": "python",
   "name": "venv"
  },
  "language_info": {
   "codemirror_mode": {
    "name": "ipython",
    "version": 3
   },
   "file_extension": ".py",
   "mimetype": "text/x-python",
   "name": "python",
   "nbconvert_exporter": "python",
   "pygments_lexer": "ipython3",
   "version": "3.8.10"
  },
  "vscode": {
   "interpreter": {
    "hash": "c4331abc9abdd1d584db7f832dab711ae7d45f0aa8f7aafc18d69752b2c41e7f"
   }
  }
 },
 "nbformat": 4,
 "nbformat_minor": 1
}
