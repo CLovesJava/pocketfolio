{
 "cells": [
  {
   "cell_type": "markdown",
   "metadata": {},
   "source": [
    "# 📌 TF-IDF (비슷한 마이룸 추천)\n",
    "\n",
    "## ✏️ DB 연결"
   ]
  },
  {
   "cell_type": "code",
   "execution_count": 99,
   "metadata": {},
   "outputs": [],
   "source": [
    "import os\n",
    "import pymysql\n",
    "import pandas as pd\n",
    "import re\n",
    "\n",
    "from dotenv import load_dotenv, find_dotenv\n",
    "\n",
    "\n",
    "# 환경변수 불러오기\n",
    "load_dotenv(find_dotenv())\n",
    "HOST = os.environ[\"MYSQL_HOST\"] # MySQL host\n",
    "DB = os.environ[\"MYSQL_NAME\"]   # MySQL name\n",
    "USER = os.environ[\"MYSQL_USER\"] # MySQL user\n",
    "PASSWORD = os.environ[\"MYSQL_PASS\"] # MySQL password\n",
    "PORT = int(os.environ[\"MYSQL_PORT\"]) # MySQL port\n",
    "\n",
    "\n",
    "# DB 연결\n",
    "db = pymysql.connect(host=HOST, port=PORT, user=USER, passwd=PASSWORD, db=DB, charset='utf8', autocommit=True, cursorclass=pymysql.cursors.DictCursor)\n",
    "#  cursor생성\n",
    "cursor = db.cursor()"
   ]
  },
  {
   "cell_type": "code",
   "execution_count": 100,
   "metadata": {},
   "outputs": [],
   "source": [
    "# 한글, 숫자, 영문만 가져옴\n",
    "def sub_special(s):\n",
    "    # html 태그 제거\n",
    "    tag_remover = re.compile('<.*?>')\n",
    "    s = re.sub(tag_remover, '', s)\n",
    "    return re.sub(r'[^ㄱ-ㅎㅏ-ㅣ가-힣0-9a-zA-Z ]','',s)\n",
    "\n",
    "# 리스트를 문자열로\n",
    "def list2str(list):\n",
    "    return \"\".join(list)"
   ]
  },
  {
   "cell_type": "markdown",
   "metadata": {},
   "source": [
    "### ✏️ 로그인 한 유저의 포트폴리오 Summary 및 Tag 조회"
   ]
  },
  {
   "cell_type": "code",
   "execution_count": 101,
   "metadata": {},
   "outputs": [
    {
     "name": "stdout",
     "output_type": "stream",
     "text": [
      "<h1>아이링크</h1><p>스스로 모든 것을 하고 싶어하는 모든 아이를 위해 우리 서비스는 만들어졌어요.</p>\n",
      "<p>아이 혼자서 자신의 하루를 돌아보고 그 날의 기분을 기록해보아요!</p>\n",
      "<p>매일 기록한 일상이 선생님과 부모님에게 전달되어 모두의 기억이 될 수 있게 해줄게요.</p>포트폴리오 내용dockerexpressnode.js백엔드아이링크태그1태그2\n"
     ]
    },
    {
     "data": {
      "text/html": [
       "<div>\n",
       "<style scoped>\n",
       "    .dataframe tbody tr th:only-of-type {\n",
       "        vertical-align: middle;\n",
       "    }\n",
       "\n",
       "    .dataframe tbody tr th {\n",
       "        vertical-align: top;\n",
       "    }\n",
       "\n",
       "    .dataframe thead th {\n",
       "        text-align: right;\n",
       "    }\n",
       "</style>\n",
       "<table border=\"1\" class=\"dataframe\">\n",
       "  <thead>\n",
       "    <tr style=\"text-align: right;\">\n",
       "      <th></th>\n",
       "      <th>room_seq</th>\n",
       "      <th>feat</th>\n",
       "    </tr>\n",
       "  </thead>\n",
       "  <tbody>\n",
       "    <tr>\n",
       "      <th>0</th>\n",
       "      <td>0</td>\n",
       "      <td>&lt;h1&gt;아이링크&lt;/h1&gt;&lt;p&gt;스스로 모든 것을 하고 싶어하는 모든 아이를 위해 우리...</td>\n",
       "    </tr>\n",
       "  </tbody>\n",
       "</table>\n",
       "</div>"
      ],
      "text/plain": [
       "   room_seq                                               feat\n",
       "0         0  <h1>아이링크</h1><p>스스로 모든 것을 하고 싶어하는 모든 아이를 위해 우리..."
      ]
     },
     "execution_count": 101,
     "metadata": {},
     "output_type": "execute_result"
    }
   ],
   "source": [
    "# 로그인 한 유저의 번호\n",
    "user_seq = 40\n",
    "\n",
    "# 포트폴리오 summary 조회\n",
    "port_sql = \"SELECT GROUP_CONCAT(DISTINCT(`p`.`summary`) SEPARATOR '') AS `portfolios` \\\n",
    "    FROM `portfolio` AS `p` \\\n",
    "    INNER JOIN `arrange` AS `a` ON `p`.`port_seq` = `a`.`port_seq` \\\n",
    "    INNER JOIN `room` AS `r` ON `a`.`room_seq` = `r`.`room_seq` \\\n",
    "    INNER JOIN `user` AS `u` ON `r`.`user_seq` = `u`.`user_seq` \\\n",
    "    WHERE `u`.`user_seq` = \" + str(user_seq) + \" GROUP BY `u`.`user_seq`; \"\n",
    "\n",
    "cursor.execute(port_sql)\n",
    "result = cursor.fetchall()\n",
    "\n",
    "ports = result[0].get(\"portfolios\")\n",
    "\n",
    "# Tag 조회\n",
    "tag_sql = \"SELECT GROUP_CONCAT(DISTINCT(`t`.`name`) SEPARATOR '') AS `tags` \\\n",
    "    FROM `tag` AS `t` \\\n",
    "    INNER JOIN `arrange` AS `a` ON `t`.`port_seq` = `a`.`port_seq` \\\n",
    "    INNER JOIN `room` AS `r` ON `a`.`room_seq` = `r`.`room_seq` \\\n",
    "    INNER JOIN `user` AS `u` ON `r`.`user_seq` = `u`.`user_seq` \\\n",
    "    WHERE `u`.`user_seq` = \" + str(user_seq) + \" GROUP BY `u`.`user_seq`; \"\n",
    "\n",
    "cursor.execute(tag_sql)\n",
    "result = cursor.fetchall()\n",
    "tags = result[0].get(\"tags\")\n",
    "\n",
    "user_feat = ports + tags\n",
    "print(user_feat)\n",
    "df = pd.DataFrame({\"room_seq\": [0], \"feat\": [user_feat]})\n",
    "df"
   ]
  },
  {
   "cell_type": "markdown",
   "metadata": {},
   "source": [
    "### 형태소 분석"
   ]
  },
  {
   "cell_type": "code",
   "execution_count": 102,
   "metadata": {},
   "outputs": [],
   "source": [
    "from konlpy.tag import Okt\n",
    "okt = Okt()\n",
    "\n",
    "file_path = \"./stop_words.txt\"\n",
    "with open(file_path, encoding=\"utf8\") as f:\n",
    "    lines = f.readlines()\n",
    "stop_words = [line.rstrip(\"\\n\") for line in lines]"
   ]
  },
  {
   "cell_type": "code",
   "execution_count": 103,
   "metadata": {},
   "outputs": [],
   "source": [
    "# 형태소 분석\n",
    "def morph_and_stopword(text):\n",
    "    text = sub_special(text)\n",
    "    \n",
    "    #형태소 분석\n",
    "    words = okt.morphs(text, stem=True)\n",
    "    \n",
    "    # 형태소 분석 결과 담을 텍스트\n",
    "    feat_list = []\n",
    "    \n",
    "    #불용어 처리\n",
    "    for word in words:\n",
    "        if word not in stop_words and len(word) > 1:\n",
    "            feat_list.append(word)\n",
    "            \n",
    "    return list2str(set(feat_list))"
   ]
  },
  {
   "cell_type": "markdown",
   "metadata": {},
   "source": [
    "---"
   ]
  },
  {
   "cell_type": "markdown",
   "metadata": {},
   "source": [
    "### 📌 모든 방의 포트폴리오 Summary, Tag"
   ]
  },
  {
   "cell_type": "code",
   "execution_count": 104,
   "metadata": {
    "scrolled": true
   },
   "outputs": [
    {
     "data": {
      "text/html": [
       "<div>\n",
       "<style scoped>\n",
       "    .dataframe tbody tr th:only-of-type {\n",
       "        vertical-align: middle;\n",
       "    }\n",
       "\n",
       "    .dataframe tbody tr th {\n",
       "        vertical-align: top;\n",
       "    }\n",
       "\n",
       "    .dataframe thead th {\n",
       "        text-align: right;\n",
       "    }\n",
       "</style>\n",
       "<table border=\"1\" class=\"dataframe\">\n",
       "  <thead>\n",
       "    <tr style=\"text-align: right;\">\n",
       "      <th></th>\n",
       "      <th>room_seq</th>\n",
       "      <th>feat</th>\n",
       "    </tr>\n",
       "  </thead>\n",
       "  <tbody>\n",
       "    <tr>\n",
       "      <th>0</th>\n",
       "      <td>0</td>\n",
       "      <td>전달내용돌아보다기분포트폴리오기억부모님dockerexpressnodejs선생님태그해보...</td>\n",
       "    </tr>\n",
       "    <tr>\n",
       "      <th>1</th>\n",
       "      <td>6</td>\n",
       "      <td>zzzzzzzzzzzz</td>\n",
       "    </tr>\n",
       "    <tr>\n",
       "      <th>2</th>\n",
       "      <td>82</td>\n",
       "      <td>fsdfdsfdsfsfSFAFSFSG</td>\n",
       "    </tr>\n",
       "    <tr>\n",
       "      <th>3</th>\n",
       "      <td>93</td>\n",
       "      <td>zzzzzzzzzzzz</td>\n",
       "    </tr>\n",
       "  </tbody>\n",
       "</table>\n",
       "</div>"
      ],
      "text/plain": [
       "   room_seq                                               feat\n",
       "0         0  전달내용돌아보다기분포트폴리오기억부모님dockerexpressnodejs선생님태그해보...\n",
       "1         6                                       zzzzzzzzzzzz\n",
       "2        82                               fsdfdsfdsfsfSFAFSFSG\n",
       "3        93                                       zzzzzzzzzzzz"
      ]
     },
     "execution_count": 104,
     "metadata": {},
     "output_type": "execute_result"
    }
   ],
   "source": [
    "# 포트폴리오 summary 조회\n",
    "port_sql = \"SELECT `r`.`room_seq`, GROUP_CONCAT(DISTINCT(`p`.`summary`) SEPARATOR '') AS `portfolios` \\\n",
    "    FROM `portfolio` AS `p` \\\n",
    "    INNER JOIN `arrange` AS `a` ON `p`.`port_seq` = `a`.`port_seq` \\\n",
    "    INNER JOIN `room` AS `r` ON `a`.`room_seq` = `r`.`room_seq` \\\n",
    "    INNER JOIN `user` AS `u` ON `r`.`user_seq` = `u`.`user_seq` \\\n",
    "    WHERE `r`.`user_seq` != \" + str(user_seq) + \" GROUP BY `r`.`room_seq` ;\"\n",
    "\n",
    "cursor.execute(port_sql)\n",
    "result = cursor.fetchall()\n",
    "df_ports = pd.DataFrame(result)\n",
    "\n",
    "# Tag 조회\n",
    "tag_sql = \"SELECT `r`.`room_seq`, GROUP_CONCAT(DISTINCT(`t`.`name`) SEPARATOR '') AS `tags` \\\n",
    "    FROM `tag` AS `t` \\\n",
    "    INNER JOIN `arrange` AS `a` ON `t`.`port_seq` = `a`.`port_seq` \\\n",
    "    INNER JOIN `room` AS `r` ON `a`.`room_seq` = `r`.`room_seq` \\\n",
    "    INNER JOIN `user` AS `u` ON `r`.`user_seq` = `u`.`user_seq` \\\n",
    "    WHERE `r`.`user_seq` != \" + str(user_seq) + \" GROUP BY `r`.`room_seq` ;\"\n",
    "\n",
    "cursor.execute(tag_sql)\n",
    "result = cursor.fetchall()\n",
    "df_tags = pd.DataFrame(result)\n",
    "\n",
    "# 태그 없을 시 빈 데이터 프레임 생성\n",
    "if df_tags.empty:\n",
    "    df_tags = pd.DataFrame({\"room_seq\": [], \"tags\": []})\n",
    "    \n",
    "# portfolio, tag 데이터 프레임 병합\n",
    "df_rooms = pd.merge(df_ports, df_tags, how=\"outer\")\n",
    "\n",
    "# 결측값 제거\n",
    "df_rooms[\"portfolios\"] = df_rooms[\"portfolios\"].fillna(\"\")\n",
    "df_rooms[\"tags\"] = df_rooms[\"tags\"].fillna(\"\")\n",
    "\n",
    "# 열 병합\n",
    "df_rooms[\"feat\"] = df_rooms[\"portfolios\"] + df_rooms[\"tags\"]\n",
    "df_rooms.drop([\"portfolios\", \"tags\"], axis=1, inplace=True)\n",
    "\n",
    "# 로그인 유저 데이터와 각 방의 데이터 프레임 병합\n",
    "df = pd.concat([df, df_rooms], ignore_index=True)\n",
    "df.drop_duplicates(inplace=True, ignore_index=True)\n",
    "\n",
    "df[\"feat\"] = df[\"feat\"].map(lambda x:morph_and_stopword(x))\n",
    "df"
   ]
  },
  {
   "cell_type": "markdown",
   "metadata": {},
   "source": [
    "### ✏️ 방 번호:인덱스"
   ]
  },
  {
   "cell_type": "code",
   "execution_count": 105,
   "metadata": {},
   "outputs": [],
   "source": [
    "id_2_idx = dict(zip(df[\"room_seq\"], df.index))"
   ]
  },
  {
   "cell_type": "code",
   "execution_count": 106,
   "metadata": {},
   "outputs": [
    {
     "data": {
      "text/html": [
       "<div>\n",
       "<style scoped>\n",
       "    .dataframe tbody tr th:only-of-type {\n",
       "        vertical-align: middle;\n",
       "    }\n",
       "\n",
       "    .dataframe tbody tr th {\n",
       "        vertical-align: top;\n",
       "    }\n",
       "\n",
       "    .dataframe thead th {\n",
       "        text-align: right;\n",
       "    }\n",
       "</style>\n",
       "<table border=\"1\" class=\"dataframe\">\n",
       "  <thead>\n",
       "    <tr style=\"text-align: right;\">\n",
       "      <th></th>\n",
       "      <th>room_seq</th>\n",
       "      <th>feat</th>\n",
       "    </tr>\n",
       "  </thead>\n",
       "  <tbody>\n",
       "    <tr>\n",
       "      <th>0</th>\n",
       "      <td>0</td>\n",
       "      <td>전달내용돌아보다기분포트폴리오기억부모님dockerexpressnodejs선생님태그해보...</td>\n",
       "    </tr>\n",
       "    <tr>\n",
       "      <th>1</th>\n",
       "      <td>6</td>\n",
       "      <td>zzzzzzzzzzzz</td>\n",
       "    </tr>\n",
       "    <tr>\n",
       "      <th>2</th>\n",
       "      <td>82</td>\n",
       "      <td>fsdfdsfdsfsfSFAFSFSG</td>\n",
       "    </tr>\n",
       "    <tr>\n",
       "      <th>3</th>\n",
       "      <td>93</td>\n",
       "      <td>zzzzzzzzzzzz</td>\n",
       "    </tr>\n",
       "  </tbody>\n",
       "</table>\n",
       "</div>"
      ],
      "text/plain": [
       "   room_seq                                               feat\n",
       "0         0  전달내용돌아보다기분포트폴리오기억부모님dockerexpressnodejs선생님태그해보...\n",
       "1         6                                       zzzzzzzzzzzz\n",
       "2        82                               fsdfdsfdsfsfSFAFSFSG\n",
       "3        93                                       zzzzzzzzzzzz"
      ]
     },
     "execution_count": 106,
     "metadata": {},
     "output_type": "execute_result"
    }
   ],
   "source": [
    "df"
   ]
  },
  {
   "cell_type": "markdown",
   "metadata": {},
   "source": [
    "### TEST TF-IDF"
   ]
  },
  {
   "cell_type": "code",
   "execution_count": 108,
   "metadata": {},
   "outputs": [],
   "source": [
    "from sklearn.feature_extraction.text import TfidfVectorizer\n",
    "from sklearn.metrics.pairwise import cosine_similarity\n",
    "import pandas as pd\n",
    "import numpy as np"
   ]
  },
  {
   "cell_type": "code",
   "execution_count": 110,
   "metadata": {
    "scrolled": true
   },
   "outputs": [
    {
     "name": "stdout",
     "output_type": "stream",
     "text": [
      "TF-IDF 행렬의 크기(shape):  (4, 3)\n",
      "  (0, 2)\t1.0\n",
      "  (1, 1)\t1.0\n",
      "  (2, 0)\t1.0\n",
      "  (3, 1)\t1.0\n",
      "코사인 유사도 연산 결과:  (4, 4)\n",
      "[[1. 0. 0. 0.]\n",
      " [0. 1. 0. 1.]\n",
      " [0. 0. 1. 0.]\n",
      " [0. 1. 0. 1.]]\n"
     ]
    }
   ],
   "source": [
    "tf_idf = TfidfVectorizer()\n",
    "feat_list = list(df[\"feat\"])\n",
    "tf_idf_matrix = tf_idf.fit_transform(feat_list)\n",
    "print(\"TF-IDF 행렬의 크기(shape): \", tf_idf_matrix.shape)\n",
    "print(tf_idf_matrix)\n",
    "\n",
    "cosine_sim = cosine_similarity(tf_idf_matrix, tf_idf_matrix)\n",
    "print(\"코사인 유사도 연산 결과: \",cosine_sim.shape)\n",
    "print(cosine_sim)"
   ]
  },
  {
   "cell_type": "code",
   "execution_count": 114,
   "metadata": {},
   "outputs": [],
   "source": [
    "# dict의 value로 key 찾기\n",
    "def get_key(val, dict):\n",
    "    for key, value in dict.items():\n",
    "        if val == value:\n",
    "                return key"
   ]
  },
  {
   "cell_type": "code",
   "execution_count": 119,
   "metadata": {},
   "outputs": [],
   "source": [
    "def get_recommendations(data, cosine_sim=cosine_sim):\n",
    "    room_seq = data[\"room_seq\"]\n",
    "    idx = id_2_idx[0]\n",
    "    \n",
    "    # 해당 데이터와의 유사도를 가져온다.\n",
    "    sim_scores = list(enumerate(cosine_sim[idx]))\n",
    "    \n",
    "    # 유사도에 따라 정렬\n",
    "    sim_scores = sorted(sim_scores, key=lambda x: x[1], reverse=True)\n",
    "    \n",
    "    # 추천 방 저장 리스트\n",
    "    room_list = []\n",
    "        \n",
    "    for index, value in enumerate(sim_scores):\n",
    "        \n",
    "        # 해당 데이터의 index\n",
    "        room_idx =  get_key(value[0], id_2_idx)\n",
    "        \n",
    "        # 유사도가 0.95를 넘지 않다면 추가\n",
    "        if value[1] < 0.95:\n",
    "            room_list.append(get_key(value[0], id_2_idx))\n",
    "                            \n",
    "        # 8개가 채워지면 stop\n",
    "        if len(room_list) == 8:\n",
    "            break\n",
    "    print(room_list)\n",
    "    return room_list"
   ]
  },
  {
   "cell_type": "code",
   "execution_count": 121,
   "metadata": {},
   "outputs": [
    {
     "name": "stdout",
     "output_type": "stream",
     "text": [
      "[6, 82, 93]\n",
      "[6, 82, 93]\n",
      "[6, 82, 93]\n",
      "[6, 82, 93]\n"
     ]
    },
    {
     "data": {
      "text/plain": [
       "0    [6, 82, 93]\n",
       "1    [6, 82, 93]\n",
       "2    [6, 82, 93]\n",
       "3    [6, 82, 93]\n",
       "dtype: object"
      ]
     },
     "execution_count": 121,
     "metadata": {},
     "output_type": "execute_result"
    }
   ],
   "source": [
    "df.apply(get_recommendations, axis=1)"
   ]
  },
  {
   "cell_type": "markdown",
   "metadata": {},
   "source": [
    "[로그인 한 놈]  \n",
    "- 모든 포트폴리오 목록 summary\n",
    "- 모든 태그\n",
    "\n",
    "[다른 사용자]  \n",
    "- 방에 배치된 포트폴리오의 summary\n",
    "- 해당 포트폴리오들의 태그  \n",
    "\n",
    "유저-유저가 아닌 방-로그인 한 유저  \n",
    "\n",
    "DataFrame  \n",
    "[방 번호][포트폴리오내용][태그목록] 을\n",
    "[방 번호][형태소분석 후의 feat str]로 만들어  \n",
    "pickle로 저장 -> 데이터 로딩 시간 감소  \n",
    "\n",
    "\n",
    "\n",
    "인덱스를 방 번호로 지정하고  \n",
    "로그인한 유저의 텍스트랑  \n",
    "방의 feat str의 유사도 계산  \n",
    "유사도 순 정렬한 뒤 8개?  "
   ]
  }
 ],
 "metadata": {
  "kernelspec": {
   "display_name": "pocketfolio",
   "language": "python",
   "name": "venv"
  },
  "language_info": {
   "codemirror_mode": {
    "name": "ipython",
    "version": 3
   },
   "file_extension": ".py",
   "mimetype": "text/x-python",
   "name": "python",
   "nbconvert_exporter": "python",
   "pygments_lexer": "ipython3",
   "version": "3.8.10"
  },
  "vscode": {
   "interpreter": {
    "hash": "c4331abc9abdd1d584db7f832dab711ae7d45f0aa8f7aafc18d69752b2c41e7f"
   }
  }
 },
 "nbformat": 4,
 "nbformat_minor": 1
}
