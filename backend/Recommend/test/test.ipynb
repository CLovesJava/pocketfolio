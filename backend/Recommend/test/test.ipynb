{
 "cells": [
  {
   "cell_type": "markdown",
   "metadata": {},
   "source": [
    "# 📌 TF-IDF (비슷한 마이룸 추천)\n",
    "\n",
    "## ✏️ DB 연결"
   ]
  },
  {
   "cell_type": "code",
   "execution_count": 9,
   "metadata": {},
   "outputs": [],
   "source": [
    "import os\n",
    "import pymysql\n",
    "import pandas as pd\n",
    "import re\n",
    "\n",
    "from dotenv import load_dotenv, find_dotenv\n",
    "\n",
    "\n",
    "# 환경변수 불러오기\n",
    "load_dotenv(find_dotenv())\n",
    "HOST = os.environ[\"MYSQL_HOST\"] # MySQL host\n",
    "DB = os.environ[\"MYSQL_NAME\"]   # MySQL name\n",
    "USER = os.environ[\"MYSQL_USER\"] # MySQL user\n",
    "PASSWORD = os.environ[\"MYSQL_PASS\"] # MySQL password\n",
    "PORT = int(os.environ[\"MYSQL_PORT\"]) # MySQL port\n",
    "\n",
    "\n",
    "# DB 연결\n",
    "db = pymysql.connect(host=HOST, port=PORT, user=USER, passwd=PASSWORD, db=DB, charset='utf8', autocommit=True, cursorclass=pymysql.cursors.DictCursor)\n",
    "#  cursor생성\n",
    "cursor = db.cursor()"
   ]
  },
  {
   "cell_type": "code",
   "execution_count": 13,
   "metadata": {},
   "outputs": [],
   "source": [
    "# 한글, 숫자, 영문만 가져옴\n",
    "def sub_special(s):\n",
    "    # html 태그 제거\n",
    "    tag_remover = re.compile('<.*?>')\n",
    "    s = re.sub(tag_remover, '', s)\n",
    "    return re.sub(r'[^ㄱ-ㅎㅏ-ㅣ가-힣0-9a-zA-Z ]','',s)\n",
    "\n",
    "# 리스트를 문자열로\n",
    "def list2str(list):\n",
    "    return \"\".join(list)"
   ]
  },
  {
   "cell_type": "markdown",
   "metadata": {},
   "source": [
    "### ✏️ 로그인 한 유저의 포트폴리오 Summary 및 Tag 조회"
   ]
  },
  {
   "cell_type": "code",
   "execution_count": 17,
   "metadata": {},
   "outputs": [
    {
     "name": "stdout",
     "output_type": "stream",
     "text": [
      "아이링크스스로 모든 것을 하고 싶어하는 모든 아이를 위해 우리 서비스는 만들어졌어요아이 혼자서 자신의 하루를 돌아보고 그 날의 기분을 기록해보아요매일 기록한 일상이 선생님과 부모님에게 전달되어 모두의 기억이 될 수 있게 해줄게요포트폴리오 내용nodejsexpress아이링크백엔드docker태그1태그2\n"
     ]
    }
   ],
   "source": [
    "# 로그인 한 유저의 번호\n",
    "userSeq = 40\n",
    "\n",
    "# 포트폴리오 summary 조회\n",
    "port_sql = \"SELECT DISTINCT(`p`.`summary`) AS `portfolios` \\\n",
    "  FROM `portfolio` AS `p` \\\n",
    "  INNER JOIN `arrange` AS `a` ON `p`.`port_seq` = `a`.`port_seq` \\\n",
    "  INNER JOIN `room` AS `r` ON `a`.`room_seq` = `r`.`room_seq` \\\n",
    "  INNER JOIN `user` AS `u` ON `r`.`user_seq` = `u`.`user_seq` \\\n",
    "  WHERE `u`.`user_seq` = \" + str(userSeq) + \";\"\n",
    "\n",
    "cursor.execute(port_sql)\n",
    "result = cursor.fetchall()\n",
    "\n",
    "df_ports = pd.DataFrame(result)\n",
    "ports = sub_special(list2str(list(df_ports[\"portfolios\"])))\n",
    "\n",
    "# Tag 조회\n",
    "tag_sql = \"SELECT DISTINCT(`t`.`name`) AS `tags` FROM `tag` AS `t` \\\n",
    "  INNER JOIN `arrange` AS `a` ON `t`.`port_seq` = `a`.`port_seq` \\\n",
    "  INNER JOIN `room` AS `r` ON `a`.`room_seq` = `r`.`room_seq` \\\n",
    "  INNER JOIN `user` AS `u` ON `r`.`user_seq` = `u`.`user_seq` \\\n",
    "  WHERE `u`.`user_seq` = \" + str(userSeq) + \";\"\n",
    "\n",
    "cursor.execute(tag_sql)\n",
    "result = cursor.fetchall()\n",
    "\n",
    "df_tags = pd.DataFrame(result)\n",
    "tags = sub_special(list2str(list(df_tags[\"tags\"])))\n",
    "\n",
    "feat_str = ports + tags\n",
    "print(feat_str)"
   ]
  },
  {
   "cell_type": "markdown",
   "metadata": {},
   "source": [
    "### 형태소 분석"
   ]
  },
  {
   "cell_type": "code",
   "execution_count": 21,
   "metadata": {},
   "outputs": [],
   "source": [
    "from konlpy.tag import Okt\n",
    "okt = Okt()\n",
    "\n",
    "file_path = \"./stop_words.txt\"\n",
    "with open(file_path, encoding=\"utf8\") as f:\n",
    "    lines = f.readlines()\n",
    "stop_words = [line.rstrip(\"\\n\") for line in lines]"
   ]
  },
  {
   "cell_type": "code",
   "execution_count": 24,
   "metadata": {},
   "outputs": [],
   "source": [
    "# 형태소 분석\n",
    "def morph_and_stopword(text):\n",
    "    \n",
    "    #형태소 분석\n",
    "    words = okt.morphs(text, stem=True)\n",
    "    \n",
    "    # 형태소 분석 결과 담을 텍스트\n",
    "    feat_list = []\n",
    "    \n",
    "    #불용어 처리\n",
    "    for word in words:\n",
    "        if word not in stop_words and len(word) > 1:\n",
    "            feat_list.append(word)\n",
    "\n",
    "    return list2str(set(feat_list))"
   ]
  },
  {
   "cell_type": "code",
   "execution_count": 27,
   "metadata": {
    "scrolled": true
   },
   "outputs": [],
   "source": [
    "text = morph_and_stopword(feat_str)"
   ]
  },
  {
   "cell_type": "markdown",
   "metadata": {},
   "source": [
    "---"
   ]
  },
  {
   "cell_type": "markdown",
   "metadata": {},
   "source": [
    "### 📌 모든 방의 포트폴리오 Summary, Tag"
   ]
  },
  {
   "cell_type": "code",
   "execution_count": 31,
   "metadata": {},
   "outputs": [
    {
     "name": "stdout",
     "output_type": "stream",
     "text": [
      "아이링크스스로 모든 것을 하고 싶어하는 모든 아이를 위해 우리 서비스는 만들어졌어요아이 혼자서 자신의 하루를 돌아보고 그 날의 기분을 기록해보아요매일 기록한 일상이 선생님과 부모님에게 전달되어 모두의 기억이 될 수 있게 해줄게요포트폴리오 내용fsdfdsfdsfsfSFAFSFSGzzzzzzzzzzzzzzzzzzzzzzzznodejsexpress아이링크백엔드docker태그1태그2\n"
     ]
    }
   ],
   "source": [
    "# 포트폴리오 summary 조회\n",
    "port_sql = \"SELECT DISTINCT(`p`.`summary`) AS `portfolios`, `r`.`room_seq` \\\n",
    "  FROM `portfolio` AS `p` \\\n",
    "  INNER JOIN `arrange` AS `a` ON `p`.`port_seq` = `a`.`port_seq` \\\n",
    "  INNER JOIN `room` AS `r` ON `a`.`room_seq` = `r`.`room_seq` \\\n",
    "  INNER JOIN `user` AS `u` ON `r`.`user_seq` = `u`.`user_seq`\"\n",
    "\n",
    "cursor.execute(port_sql)\n",
    "result = cursor.fetchall()\n",
    "\n",
    "df_ports = pd.DataFrame(result)\n",
    "ports = sub_special(list2str(list(df_ports[\"portfolios\"])))\n",
    "\n",
    "# Tag 조회\n",
    "tag_sql = \"SELECT DISTINCT(`t`.`name`) AS `tags` FROM `tag` AS `t` \\\n",
    "  INNER JOIN `arrange` AS `a` ON `t`.`port_seq` = `a`.`port_seq` \\\n",
    "  INNER JOIN `room` AS `r` ON `a`.`room_seq` = `r`.`room_seq` \\\n",
    "  INNER JOIN `user` AS `u` ON `r`.`user_seq` = `u`.`user_seq` \"\n",
    "\n",
    "cursor.execute(tag_sql)\n",
    "result = cursor.fetchall()\n",
    "\n",
    "df_tags = pd.DataFrame(result)\n",
    "tags = sub_special(list2str(list(df_tags[\"tags\"])))\n",
    "\n",
    "feat_str = ports + tags\n",
    "print(feat_str)"
   ]
  },
  {
   "cell_type": "markdown",
   "metadata": {},
   "source": [
    "### TEST TF-IDF"
   ]
  },
  {
   "cell_type": "code",
   "execution_count": 26,
   "metadata": {},
   "outputs": [],
   "source": [
    "from sklearn.feature_extraction.text import TfidfVectorizer\n",
    "from sklearn.metrics.pairwise import cosine_similarity\n",
    "import pandas as pd\n",
    "import numpy as np"
   ]
  },
  {
   "cell_type": "code",
   "execution_count": 29,
   "metadata": {},
   "outputs": [
    {
     "ename": "NameError",
     "evalue": "name 'feat_list' is not defined",
     "output_type": "error",
     "traceback": [
      "\u001b[1;31m---------------------------------------------------------------------------\u001b[0m",
      "\u001b[1;31mNameError\u001b[0m                                 Traceback (most recent call last)",
      "Cell \u001b[1;32mIn [29], line 2\u001b[0m\n\u001b[0;32m      1\u001b[0m tf_idf \u001b[39m=\u001b[39m TfidfVectorizer()\n\u001b[1;32m----> 2\u001b[0m tf_idf_matrix \u001b[39m=\u001b[39m tf_idf\u001b[39m.\u001b[39mfit_transform(feat_list)\n\u001b[0;32m      3\u001b[0m \u001b[39mprint\u001b[39m(\u001b[39m\"\u001b[39m\u001b[39mTF-IDF 행렬의 크기(shape): \u001b[39m\u001b[39m\"\u001b[39m, tf_idf_matrix\u001b[39m.\u001b[39mshape)\n\u001b[0;32m      5\u001b[0m cosine_sim \u001b[39m=\u001b[39m cosine_similarity(tf_idf_matrix, tf_idf_matrix)\n",
      "\u001b[1;31mNameError\u001b[0m: name 'feat_list' is not defined"
     ]
    }
   ],
   "source": [
    "tf_idf = TfidfVectorizer()\n",
    "tf_idf_matrix = tf_idf.fit_transform(feat_list)\n",
    "print(\"TF-IDF 행렬의 크기(shape): \", tf_idf_matrix.shape)\n",
    "\n",
    "cosine_sim = cosine_similarity(tf_idf_matrix, tf_idf_matrix)\n",
    "print(\"코사인 유사도 연산 결과: \",cosine_sim.shape)"
   ]
  },
  {
   "cell_type": "markdown",
   "metadata": {},
   "source": [
    "[로그인 한 놈]  \n",
    "- 모든 포트폴리오 목록 summary\n",
    "- 모든 태그\n",
    "\n",
    "[다른 사용자]  \n",
    "- 방에 배치된 포트폴리오의 summary\n",
    "- 해당 포트폴리오들의 태그  \n",
    "\n",
    "유저-유저가 아닌 방-로그인 한 유저  \n",
    "\n",
    "DataFrame  \n",
    "[방 번호][포트폴리오내용][태그목록] 을\n",
    "[방 번호][형태소분석 후의 feat str]로 만들어  \n",
    "pickle로 저장 -> 데이터 로딩 시간 감소  \n",
    "\n",
    "\n",
    "\n",
    "인덱스를 방 번호로 지정하고  \n",
    "로그인한 유저의 텍스트랑  \n",
    "방의 feat str의 유사도 계산  \n",
    "유사도 순 정렬한 뒤 8개?  "
   ]
  }
 ],
 "metadata": {
  "kernelspec": {
   "display_name": "Python 3.8.10 ('venv': venv)",
   "language": "python",
   "name": "python3"
  },
  "language_info": {
   "codemirror_mode": {
    "name": "ipython",
    "version": 3
   },
   "file_extension": ".py",
   "mimetype": "text/x-python",
   "name": "python",
   "nbconvert_exporter": "python",
   "pygments_lexer": "ipython3",
   "version": "3.8.10"
  },
  "vscode": {
   "interpreter": {
    "hash": "c4331abc9abdd1d584db7f832dab711ae7d45f0aa8f7aafc18d69752b2c41e7f"
   }
  }
 },
 "nbformat": 4,
 "nbformat_minor": 1
}
